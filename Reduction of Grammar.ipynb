{
 "cells": [
  {
   "cell_type": "markdown",
   "metadata": {},
   "source": [
    "# <u>Reduction of Grammar</u>"
   ]
  },
  {
   "cell_type": "markdown",
   "metadata": {},
   "source": [
    "## <u>Removing <i>epsilon</i> transitions</u>"
   ]
  },
  {
   "cell_type": "code",
   "execution_count": 23,
   "metadata": {
    "scrolled": false
   },
   "outputs": [
    {
     "name": "stdout",
     "output_type": "stream",
     "text": [
      "{'S': ['A'], 'A': ['aB'], 'B': ['C', 'b'], 'C': ['D'], 'D': ['E'], 'E': ['a']}\n"
     ]
    }
   ],
   "source": [
    "grammar = {'S':['A'],'A':['aB'],'B':['C','b'],'C':['D'],'D':['E'],'E':['a']}\n",
    "\n",
    "def rmv(string,x,l):\n",
    "    index = -1\n",
    "    while True:\n",
    "        index = string.find(x,index+1,)\n",
    "        if index != -1 and index != len(string)-1:\n",
    "            l2 = string[:index]+string[index+1:]\n",
    "            if l2 not in l:\n",
    "                l.append(l2)\n",
    "                l = rmv(l[-1],x,l)\n",
    "                \n",
    "        elif index == len(string)-1:\n",
    "            l.append(string[:-1])\n",
    "            \n",
    "        else:\n",
    "            break\n",
    "            \n",
    "    return l\n",
    "\n",
    "f = 1\n",
    "while f:\n",
    "    f = 0\n",
    "    contain_epsilon = []\n",
    "    \n",
    "    # Checking if there are any epsilon productions\n",
    "    for i in grammar:\n",
    "        if 'ep' in grammar[i]:\n",
    "            f = 1\n",
    "            contain_epsilon.append(i)\n",
    "\n",
    "    # Removing the epsilon productions, if any\n",
    "    for i in contain_epsilon:\n",
    "        l = grammar[i]\n",
    "        l.remove('ep')\n",
    "        if len(l) == 0:\n",
    "            grammar.pop(i)\n",
    "        else:\n",
    "            grammar[i] = l\n",
    "        \n",
    "        # Removing the productions which had epsilon productions\n",
    "        for j in grammar:\n",
    "            l = []\n",
    "            for k in grammar[j]:\n",
    "                l.append(k)\n",
    "                if i in k:\n",
    "                    l2 = rmv(k,i,[])\n",
    "                    if len(l2) > 0 and l2[0] != '':\n",
    "                        l = l + l2\n",
    "                    else:\n",
    "                        l.append('ep')\n",
    "            grammar[j] = list(set(l))\n",
    "\n",
    "print(grammar)"
   ]
  },
  {
   "cell_type": "markdown",
   "metadata": {},
   "source": [
    "<hr>"
   ]
  },
  {
   "cell_type": "markdown",
   "metadata": {},
   "source": [
    "## <u>Removing unused non-terminals and productions</u>"
   ]
  },
  {
   "cell_type": "code",
   "execution_count": 22,
   "metadata": {},
   "outputs": [
    {
     "name": "stdout",
     "output_type": "stream",
     "text": [
      "{'S': ['A'], 'A': ['aB'], 'B': ['C', 'b'], 'C': ['D'], 'D': ['E'], 'E': ['a']}\n"
     ]
    }
   ],
   "source": [
    "terminals = 'abcdfghijklmnoqrstuvwxyz'\n",
    "used_productions = []\n",
    "\n",
    "def check_productions(x,l):\n",
    "    # Traversing the grammar recursively\n",
    "    if len(l) > x:\n",
    "        for i in grammar[l[x]]:\n",
    "            for j in i:\n",
    "                if j in productions and j not in l:\n",
    "                    l.append(j)\n",
    "                    l = check_productions(x+1,l)\n",
    "    return l\n",
    "\n",
    "while True:\n",
    "    l = []\n",
    "    for i in grammar:\n",
    "        for j in grammar[i]:\n",
    "            f = 0\n",
    "            for k in j:\n",
    "                \n",
    "                # selecting productions with only W(n-1) U terminals\n",
    "                if k not in terminals and k not in used_productions:\n",
    "                    f = 1\n",
    "                    break\n",
    "            if not f:\n",
    "                l.append(i)\n",
    "                break\n",
    "                \n",
    "    # If W(n) == W(n-1) then stop\n",
    "    if sorted(l) == sorted(used_productions):\n",
    "        break\n",
    "        \n",
    "    # Else update W\n",
    "    else:\n",
    "        used_productions = l\n",
    "\n",
    "productions = ''.join(list(grammar.keys()))\n",
    "unused_productions = [i for i in productions if i not in used_productions]\n",
    "\n",
    "# Removing all the unused productions\n",
    "for i in grammar:\n",
    "    l = []\n",
    "    for j in grammar[i]:\n",
    "        f = 0\n",
    "        for k in j:\n",
    "            if k in unused_productions:\n",
    "                f = 1\n",
    "                break\n",
    "        if not f:\n",
    "            l.append(j)\n",
    "    grammar[i] = l\n",
    "[grammar.pop(i) for i in unused_productions]\n",
    "\n",
    "# Removing the productions which cannot be reached\n",
    "productions = ''.join(list(grammar.keys()))\n",
    "l = check_productions(0,['S'])\n",
    "[grammar.pop(i) for i in productions if i not in l]\n",
    "\n",
    "print(grammar)"
   ]
  },
  {
   "cell_type": "markdown",
   "metadata": {},
   "source": [
    "<hr>"
   ]
  },
  {
   "cell_type": "markdown",
   "metadata": {},
   "source": [
    "## <u> Removing Unit Productions </u>"
   ]
  },
  {
   "cell_type": "code",
   "execution_count": 24,
   "metadata": {},
   "outputs": [
    {
     "name": "stdout",
     "output_type": "stream",
     "text": [
      "{'S': ['aB'], 'A': ['aB'], 'B': ['a', 'b'], 'C': ['a'], 'D': ['a'], 'E': ['a']}\n"
     ]
    }
   ],
   "source": [
    "productions = list(grammar.keys())\n",
    "def rmv_units(x):\n",
    "    l = []\n",
    "    for i in grammar[x]:\n",
    "        \n",
    "        # Checking for unit productions\n",
    "        if i in productions:\n",
    "            l = l + rmv_units(i)\n",
    "        else:\n",
    "            l.append(i)\n",
    "    return l\n",
    "\n",
    "for i in grammar:\n",
    "    grammar[i] = rmv_units(i)\n",
    "    \n",
    "print(grammar)"
   ]
  },
  {
   "cell_type": "code",
   "execution_count": null,
   "metadata": {},
   "outputs": [],
   "source": []
  }
 ],
 "metadata": {
  "kernelspec": {
   "display_name": "Python 3",
   "language": "python",
   "name": "python3"
  },
  "language_info": {
   "codemirror_mode": {
    "name": "ipython",
    "version": 3
   },
   "file_extension": ".py",
   "mimetype": "text/x-python",
   "name": "python",
   "nbconvert_exporter": "python",
   "pygments_lexer": "ipython3",
   "version": "3.7.3"
  }
 },
 "nbformat": 4,
 "nbformat_minor": 2
}
